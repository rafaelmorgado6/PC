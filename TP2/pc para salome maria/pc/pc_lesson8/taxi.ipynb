{
 "cells": [
  {
   "cell_type": "code",
   "execution_count": 4,
   "metadata": {},
   "outputs": [
    {
     "data": {
      "text/plain": [
       "(491, {'prob': 1.0, 'action_mask': array([0, 1, 0, 1, 0, 0], dtype=int8)})"
      ]
     },
     "execution_count": 4,
     "metadata": {},
     "output_type": "execute_result"
    }
   ],
   "source": [
    "#adapted from https://jovian.ai/americanachen/qlearning-med/v/1?utm_source=embed#C8\n",
    "\n",
    "# some more recent versions of OpenAI gym return 2 values in env.reset() and 5 values in env.step()\n",
    "\n",
    "import gymnasium as gym\n",
    "import random\n",
    "\n",
    "random.seed(1234)\n",
    "\n",
    "streets = gym.make(\"Taxi-v3\", render_mode=\"ansi\").env #New versions keep getting released; if -v3 doesn't work, try -v2 or -v4\n",
    "streets.reset()\n",
    "#print(streets.s)\n",
    "#print(streets.render())"
   ]
  },
  {
   "cell_type": "code",
   "execution_count": 36,
   "metadata": {},
   "outputs": [
    {
     "name": "stdout",
     "output_type": "stream",
     "text": [
      "122\n",
      "+---------+\n",
      "|\u001b[34;1mR\u001b[0m: | : :G|\n",
      "| :\u001b[43m \u001b[0m| : : |\n",
      "| : : : : |\n",
      "| | : | : |\n",
      "|\u001b[35mY\u001b[0m| : |B: |\n",
      "+---------+\n",
      "\n",
      "\n"
     ]
    }
   ],
   "source": [
    "# set initial state\n",
    "initial_state = streets.encode(1, 1, 0, 2) # taxi_row, taxi_col, passenger_position, passenger_target\n",
    "streets.unwrapped.s = initial_state\n",
    "print(streets.s)\n",
    "print(streets.render())"
   ]
  },
  {
   "cell_type": "code",
   "execution_count": 37,
   "metadata": {},
   "outputs": [
    {
     "name": "stdout",
     "output_type": "stream",
     "text": [
      "99.656\n",
      "states 500\n",
      "actions 6\n"
     ]
    }
   ],
   "source": [
    "# test random policy\n",
    "\n",
    "epochs = 1000\n",
    "lengths=[]\n",
    "for taxi_run in range(epochs):\n",
    "    state, info = streets.reset()\n",
    "    done = False\n",
    "    trip_length = 0\n",
    "    while not done and trip_length < 100:\n",
    "        action = streets.action_space.sample() # Explore a random action\n",
    "            \n",
    "        next_state, reward, terminated, truncated, info = streets.step(action)       \n",
    "        \n",
    "        done = terminated or truncated\n",
    "        trip_length +=1\n",
    "    lengths.append(trip_length)\n",
    "    \n",
    "avg_len=sum(lengths)/epochs\n",
    "print(avg_len)\n",
    "\n",
    "print('states',streets.observation_space.n)\n",
    "print('actions',streets.action_space.n)\n",
    "        "
   ]
  },
  {
   "cell_type": "code",
   "execution_count": 38,
   "metadata": {},
   "outputs": [],
   "source": [
    "# learn using q-learning algorithm\n",
    "\n",
    "import numpy as np\n",
    "\n",
    "q_table = np.zeros([streets.observation_space.n, streets.action_space.n])\n",
    "# a 2D array that represent every possible state and action in the virtual space and initialize all of them to 0\n",
    "learning_rate = 0.1\n",
    "discount_factor = 0.6\n",
    "exploration = 0.01\n",
    "epochs = 100000\n",
    "\n",
    "for taxi_run in range(epochs):\n",
    "    \n",
    "    state, info = streets.reset()\n",
    "    done = False\n",
    "            \n",
    "    while not done:    \n",
    "        random_value = random.uniform(0, 1)\n",
    "        if (random_value < exploration):\n",
    "            action = streets.action_space.sample()\n",
    "        else:\n",
    "            action = np.argmax(q_table[state])\n",
    "                    \n",
    "        next_state, reward, terminated, truncated, info = streets.step(action)\n",
    "                \n",
    "        prev_q = q_table[state, action]\n",
    "        next_max_q = np.max(q_table[next_state])\n",
    "        new_q = (1 - learning_rate) * prev_q + learning_rate * (reward + discount_factor * next_max_q)\n",
    "        q_table[state, action] = new_q\n",
    "                \n",
    "        state = next_state\n",
    "\n",
    "        done = terminated or truncated\n",
    "        \n"
   ]
  },
  {
   "cell_type": "code",
   "execution_count": 39,
   "metadata": {
    "scrolled": true
   },
   "outputs": [
    {
     "name": "stdout",
     "output_type": "stream",
     "text": [
      "124\n",
      "[-2.48942084 -2.49113106 -2.49026462 -2.49064139 -3.74280525 -3.74191277]\n",
      "0\n",
      "+---------+\n",
      "|R: | : :G|\n",
      "| : | : : |\n",
      "| : : : : |\n",
      "| | : | : |\n",
      "|\u001b[35m\u001b[34;1m\u001b[43mY\u001b[0m\u001b[0m\u001b[0m| : |B: |\n",
      "+---------+\n",
      "  (Dropoff)\n",
      "\n"
     ]
    }
   ],
   "source": [
    "#check correct action for some states\n",
    "\n",
    "state=streets.encode(1,1,1,0)\n",
    "print(state)\n",
    "print(q_table[state])\n",
    "action=np.argmax(q_table[state])\n",
    "print(action) \n",
    "streets.s = state\n",
    "streets.lastaction = action\n",
    "print(streets.render())"
   ]
  },
  {
   "cell_type": "code",
   "execution_count": 42,
   "metadata": {
    "scrolled": true
   },
   "outputs": [
    {
     "name": "stdout",
     "output_type": "stream",
     "text": [
      "Trip number 10 Step 9\n",
      "+---------+\n",
      "|\u001b[35m\u001b[34;1m\u001b[43mR\u001b[0m\u001b[0m\u001b[0m: | : :G|\n",
      "| : | : : |\n",
      "| : : : : |\n",
      "| | : | : |\n",
      "|Y| : |B: |\n",
      "+---------+\n",
      "  (Dropoff)\n",
      "\n",
      "13.8\n"
     ]
    }
   ],
   "source": [
    "# check performance after learning\n",
    "\n",
    "from IPython.display import clear_output\n",
    "from time import sleep\n",
    "lengths=[]\n",
    "for tripnum in range(1, 11):\n",
    "    state, info = streets.reset()\n",
    "   \n",
    "    done = False\n",
    "    trip_length = 0\n",
    "    returnL=0\n",
    "    while not done and trip_length < 100:\n",
    "        action = np.argmax(q_table[state])\n",
    "        next_state, reward, terminated, truncated,  info = streets.step(action)\n",
    "        done = terminated or truncated\n",
    "        returnL+=reward\n",
    "        clear_output(wait=True)\n",
    "        print(\"Trip number \" + str(tripnum) + \" Step \" + str(trip_length))\n",
    "        print(streets.render())\n",
    "        sleep(.2)\n",
    "        state = next_state\n",
    "        trip_length += 1\n",
    "    lengths.append(trip_length)\n",
    "    sleep(.2)\n",
    "avg_len=sum(lengths)/10\n",
    "print(avg_len)"
   ]
  }
 ],
 "metadata": {
  "kernelspec": {
   "display_name": "Python 3",
   "language": "python",
   "name": "python3"
  },
  "language_info": {
   "codemirror_mode": {
    "name": "ipython",
    "version": 3
   },
   "file_extension": ".py",
   "mimetype": "text/x-python",
   "name": "python",
   "nbconvert_exporter": "python",
   "pygments_lexer": "ipython3",
   "version": "3.8.10"
  }
 },
 "nbformat": 4,
 "nbformat_minor": 5
}
