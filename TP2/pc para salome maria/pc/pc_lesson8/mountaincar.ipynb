{
 "cells": [
  {
   "cell_type": "code",
   "execution_count": 2,
   "metadata": {},
   "outputs": [
    {
     "name": "stdout",
     "output_type": "stream",
     "text": [
      "[-0.54271615  0.        ]\n"
     ]
    }
   ],
   "source": [
    "#adapted from https://jovian.ai/americanachen/qlearning-med/v/1?utm_source=embed#C8\n",
    "\n",
    "# some more recent versions of OpenAI gym return 2 values in env.reset() and 5 values in env.step()\n",
    "\n",
    "import gymnasium as gym\n",
    "import random\n",
    "from time import sleep\n",
    "\n",
    "random.seed(1234)\n",
    "\n",
    "mountain = gym.make(\"MountainCar-v0\") # render_mode=\"human\"\n",
    "state, info = mountain.reset()\n",
    "print(state)\n",
    "print(info)\n",
    "#mountain.render()\n",
    "#sleep(1)\n",
    "#mountain.close()"
   ]
  },
  {
   "cell_type": "code",
   "execution_count": 25,
   "metadata": {},
   "outputs": [
    {
     "name": "stdout",
     "output_type": "stream",
     "text": [
      "100.0\n"
     ]
    },
    {
     "ename": "AttributeError",
     "evalue": "'Box' object has no attribute 'n'",
     "output_type": "error",
     "traceback": [
      "\u001b[0;31m---------------------------------------------------------------------------\u001b[0m",
      "\u001b[0;31mAttributeError\u001b[0m                            Traceback (most recent call last)",
      "\u001b[1;32m/home/lapa/Documents/masters/year1/pc/pc_lesson8/mountaincar.ipynb Cell 2\u001b[0m line \u001b[0;36m2\n\u001b[1;32m     <a href='vscode-notebook-cell:/home/lapa/Documents/masters/year1/pc/pc_lesson8/mountaincar.ipynb#W3sZmlsZQ%3D%3D?line=17'>18</a>\u001b[0m avg_len\u001b[39m=\u001b[39m\u001b[39msum\u001b[39m(lengths)\u001b[39m/\u001b[39mepochs\n\u001b[1;32m     <a href='vscode-notebook-cell:/home/lapa/Documents/masters/year1/pc/pc_lesson8/mountaincar.ipynb#W3sZmlsZQ%3D%3D?line=18'>19</a>\u001b[0m \u001b[39mprint\u001b[39m(avg_len)\n\u001b[0;32m---> <a href='vscode-notebook-cell:/home/lapa/Documents/masters/year1/pc/pc_lesson8/mountaincar.ipynb#W3sZmlsZQ%3D%3D?line=20'>21</a>\u001b[0m \u001b[39mprint\u001b[39m(\u001b[39m'\u001b[39m\u001b[39mstates\u001b[39m\u001b[39m'\u001b[39m,mountain\u001b[39m.\u001b[39;49mobservation_space\u001b[39m.\u001b[39;49mn)\n\u001b[1;32m     <a href='vscode-notebook-cell:/home/lapa/Documents/masters/year1/pc/pc_lesson8/mountaincar.ipynb#W3sZmlsZQ%3D%3D?line=21'>22</a>\u001b[0m \u001b[39mprint\u001b[39m(\u001b[39m'\u001b[39m\u001b[39mactions\u001b[39m\u001b[39m'\u001b[39m,mountain\u001b[39m.\u001b[39maction_space\u001b[39m.\u001b[39mn)\n",
      "\u001b[0;31mAttributeError\u001b[0m: 'Box' object has no attribute 'n'"
     ]
    },
    {
     "ename": "",
     "evalue": "",
     "output_type": "error",
     "traceback": [
      "\u001b[1;31mThe Kernel crashed while executing code in the the current cell or a previous cell. Please review the code in the cell(s) to identify a possible cause of the failure. Click <a href='https://aka.ms/vscodeJupyterKernelCrash'>here</a> for more info. View Jupyter <a href='command:jupyter.viewOutput'>log</a> for further details."
     ]
    }
   ],
   "source": [
    "# test random policy\n",
    "\n",
    "epochs = 1000\n",
    "lengths=[]\n",
    "for taxi_run in range(epochs):\n",
    "    state, info = mountain.reset()\n",
    "    done = False\n",
    "    trip_length = 0\n",
    "    while not done and trip_length < 100:\n",
    "        action = mountain.action_space.sample() # Explore a random action\n",
    "            \n",
    "        next_state, reward, terminated, truncated, info = mountain.step(action)       \n",
    "        \n",
    "        done = terminated or truncated\n",
    "        trip_length +=1\n",
    "    lengths.append(trip_length)\n",
    "    \n",
    "avg_len=sum(lengths)/epochs\n",
    "print(avg_len)\n",
    "\n",
    "print('states',mountain.observation_space.n)\n",
    "print('actions',mountain.action_space.n)\n",
    "        "
   ]
  },
  {
   "cell_type": "code",
   "execution_count": 38,
   "metadata": {},
   "outputs": [],
   "source": [
    "# learn using q-learning algorithm\n",
    "\n",
    "import numpy as np\n",
    "\n",
    "q_table = np.zeros([mountain.observation_space.n, mountain.action_space.n])\n",
    "# a 2D array that represent every possible state and action in the virtual space and initialize all of them to 0\n",
    "learning_rate = 0.1\n",
    "discount_factor = 0.6\n",
    "exploration = 0.01\n",
    "epochs = 100000\n",
    "\n",
    "#discretize state\n",
    "for taxi_run in range(epochs):\n",
    "    \n",
    "    state, info = mountain.reset()\n",
    "    done = False\n",
    "            \n",
    "    while not done:    \n",
    "        random_value = random.uniform(0, 1)\n",
    "        if (random_value < exploration):\n",
    "            action = mountain.action_space.sample()\n",
    "        else:\n",
    "            action = np.argmax(q_table[state])\n",
    "                    \n",
    "        next_state, reward, terminated, truncated, info = mountain.step(action)\n",
    "                \n",
    "        prev_q = q_table[state, action]\n",
    "        next_max_q = np.max(q_table[next_state])\n",
    "        new_q = (1 - learning_rate) * prev_q + learning_rate * (reward + discount_factor * next_max_q)\n",
    "        q_table[state, action] = new_q\n",
    "                \n",
    "        state = next_state\n",
    "\n",
    "        done = terminated or truncated\n",
    "        \n"
   ]
  },
  {
   "cell_type": "code",
   "execution_count": 39,
   "metadata": {
    "scrolled": true
   },
   "outputs": [
    {
     "name": "stdout",
     "output_type": "stream",
     "text": [
      "124\n",
      "[-2.48942084 -2.49113106 -2.49026462 -2.49064139 -3.74280525 -3.74191277]\n",
      "0\n",
      "+---------+\n",
      "|R: | : :G|\n",
      "| : | : : |\n",
      "| : : : : |\n",
      "| | : | : |\n",
      "|\u001b[35m\u001b[34;1m\u001b[43mY\u001b[0m\u001b[0m\u001b[0m| : |B: |\n",
      "+---------+\n",
      "  (Dropoff)\n",
      "\n"
     ]
    }
   ],
   "source": [
    "#check correct action for some states\n",
    "\n",
    "state=mountain.encode(1,1,1,0)\n",
    "print(state)\n",
    "print(q_table[state])\n",
    "action=np.argmax(q_table[state])\n",
    "print(action) \n",
    "mountain.s = state\n",
    "mountain.lastaction = action\n",
    "print(mountain.render())"
   ]
  },
  {
   "cell_type": "code",
   "execution_count": 42,
   "metadata": {
    "scrolled": true
   },
   "outputs": [
    {
     "name": "stdout",
     "output_type": "stream",
     "text": [
      "Trip number 10 Step 9\n",
      "+---------+\n",
      "|\u001b[35m\u001b[34;1m\u001b[43mR\u001b[0m\u001b[0m\u001b[0m: | : :G|\n",
      "| : | : : |\n",
      "| : : : : |\n",
      "| | : | : |\n",
      "|Y| : |B: |\n",
      "+---------+\n",
      "  (Dropoff)\n",
      "\n",
      "13.8\n"
     ]
    }
   ],
   "source": [
    "# check performance after learning\n",
    "\n",
    "from IPython.display import clear_output\n",
    "from time import sleep\n",
    "lengths=[]\n",
    "for tripnum in range(1, 11):\n",
    "    state, info = mountain.reset()\n",
    "   \n",
    "    done = False\n",
    "    trip_length = 0\n",
    "    returnL=0\n",
    "    while not done and trip_length < 100:\n",
    "        action = np.argmax(q_table[state])\n",
    "        next_state, reward, terminated, truncated,  info = mountain.step(action)\n",
    "        done = terminated or truncated\n",
    "        returnL+=reward\n",
    "        clear_output(wait=True)\n",
    "        print(\"Trip number \" + str(tripnum) + \" Step \" + str(trip_length))\n",
    "        print(mountain.render())\n",
    "        sleep(.2)\n",
    "        state = next_state\n",
    "        trip_length += 1\n",
    "    lengths.append(trip_length)\n",
    "    sleep(.2)\n",
    "avg_len=sum(lengths)/10\n",
    "print(avg_len)"
   ]
  }
 ],
 "metadata": {
  "kernelspec": {
   "display_name": "Python 3",
   "language": "python",
   "name": "python3"
  },
  "language_info": {
   "codemirror_mode": {
    "name": "ipython",
    "version": 3
   },
   "file_extension": ".py",
   "mimetype": "text/x-python",
   "name": "python",
   "nbconvert_exporter": "python",
   "pygments_lexer": "ipython3",
   "version": "3.8.10"
  }
 },
 "nbformat": 4,
 "nbformat_minor": 5
}
