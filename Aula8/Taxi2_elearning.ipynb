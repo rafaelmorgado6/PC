{
 "cells": [
  {
   "cell_type": "code",
   "execution_count": null,
   "metadata": {},
   "outputs": [],
   "source": [
    "#adapted from https://jovian.ai/americanachen/qlearning-med/v/1?utm_source=embed#C8\n",
    "\n",
    "# some more recent versions of OpenAI gym return 2 values in env.reset() and 5 values in env.step()\n",
    "\n",
    "import gymnasium as gym\n",
    "import random\n",
    "\n",
    "random.seed(1234)\n",
    "\n",
    "streets = gym.make(\"Taxi-v3\", render_mode=\"ansi\") #New versions keep getting released; if -v3 doesn't work, try -v2 or -v4\n",
    "streets.reset()\n",
    "print(streets.s)\n",
    "print(streets.render())"
   ]
  },
  {
   "cell_type": "code",
   "execution_count": null,
   "metadata": {},
   "outputs": [],
   "source": [
    "# set initial state\n",
    "initial_state = streets.unwrapped.encode(0, 0, 0, 1) # taxi_row, taxi_col, passenger_position, passenger_target\n",
    "streets.unwrapped.s = initial_state\n",
    "print(streets.s)\n",
    "print(streets.render())"
   ]
  },
  {
   "cell_type": "code",
   "execution_count": null,
   "metadata": {},
   "outputs": [],
   "source": [
    "# test random policy\n",
    "\n",
    "epochs = 1000\n",
    "lengths=[]\n",
    "for taxi_run in range(epochs):\n",
    "    state, info = streets.reset()\n",
    "    done = False\n",
    "    trip_length = 0\n",
    "    while not done and trip_length < 100:\n",
    "        action = streets.action_space.sample() # Explore a random action\n",
    "            \n",
    "        next_state, reward, terminated, truncated, info = streets.step(action)       \n",
    "        \n",
    "        done = terminated or truncated\n",
    "        trip_length +=1\n",
    "    lengths.append(trip_length)\n",
    "    \n",
    "avg_len=sum(lengths)/epochs\n",
    "print(avg_len)\n",
    "\n",
    "print('states',streets.observation_space.n)\n",
    "print('actions',streets.action_space.n)\n",
    "        "
   ]
  },
  {
   "cell_type": "code",
   "execution_count": null,
   "metadata": {},
   "outputs": [],
   "source": [
    "# learn using q-learning algorithm\n",
    "\n",
    "import numpy as np\n",
    "\n",
    "q_table = np.zeros([streets.observation_space.n, streets.action_space.n])\n",
    "# a 2D array that represent every possible state and action in the virtual space and initialize all of them to 0\n",
    "learning_rate = 0.1\n",
    "discount_factor = 0.6\n",
    "exploration = 0.01\n",
    "epochs = 100000\n",
    "\n",
    "for taxi_run in range(epochs):\n",
    "    pass"
   ]
  },
  {
   "cell_type": "code",
   "execution_count": null,
   "metadata": {
    "scrolled": true
   },
   "outputs": [],
   "source": [
    "#check correct action for some states\n",
    "\n",
    "state=streets.unwrapped.encode(1,1,1,0)\n",
    "print(state)\n",
    "print(q_table[state])\n",
    "action=np.argmax(q_table[state])\n",
    "print(action) \n",
    "streets.unwrapped.s = state\n",
    "streets.unwrapped.lastaction = action\n",
    "print(streets.render())"
   ]
  },
  {
   "cell_type": "code",
   "execution_count": null,
   "metadata": {
    "scrolled": true
   },
   "outputs": [],
   "source": [
    "# check performance after learning\n",
    "\n",
    "from IPython.display import clear_output\n",
    "from time import sleep\n",
    "lengths=[]\n",
    "for tripnum in range(1, 11):\n",
    "    state, info = streets.reset()\n",
    "   \n",
    "    done = False\n",
    "    trip_length = 0\n",
    "    returnL=0\n",
    "    while not done and trip_length < 100:\n",
    "        action = np.argmax(q_table[state])\n",
    "        next_state, reward, terminated, truncated,  info = streets.step(action)\n",
    "        done = terminated or truncated\n",
    "        returnL+=reward\n",
    "        clear_output(wait=True)\n",
    "        print(\"Trip number \" + str(tripnum) + \" Step \" + str(trip_length))\n",
    "        print(streets.render())\n",
    "        sleep(.2)\n",
    "        state = next_state\n",
    "        trip_length += 1\n",
    "    lengths.append(trip_length)\n",
    "    sleep(.2)\n",
    "avg_len=sum(lengths)/10\n",
    "print(avg_len)"
   ]
  }
 ],
 "metadata": {
  "kernelspec": {
   "display_name": "Python 3",
   "language": "python",
   "name": "python3"
  },
  "language_info": {
   "codemirror_mode": {
    "name": "ipython",
    "version": 3
   },
   "file_extension": ".py",
   "mimetype": "text/x-python",
   "name": "python",
   "nbconvert_exporter": "python",
   "pygments_lexer": "ipython3",
   "version": "3.7.3"
  }
 },
 "nbformat": 4,
 "nbformat_minor": 5
}
